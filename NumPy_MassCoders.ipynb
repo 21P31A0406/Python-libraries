{
  "nbformat": 4,
  "nbformat_minor": 0,
  "metadata": {
    "colab": {
      "provenance": [],
      "include_colab_link": true
    },
    "kernelspec": {
      "name": "python3",
      "display_name": "Python 3"
    },
    "language_info": {
      "name": "python"
    }
  },
  "cells": [
    {
      "cell_type": "markdown",
      "metadata": {
        "id": "view-in-github",
        "colab_type": "text"
      },
      "source": [
        "<a href=\"https://colab.research.google.com/github/21P31A0406/Python-libraries/blob/main/NumPy_MassCoders.ipynb\" target=\"_parent\"><img src=\"https://colab.research.google.com/assets/colab-badge.svg\" alt=\"Open In Colab\"/></a>"
      ]
    },
    {
      "cell_type": "markdown",
      "source": [
        "#NumPy"
      ],
      "metadata": {
        "id": "BuL09BrL0DTI"
      }
    },
    {
      "cell_type": "markdown",
      "source": [
        "\n",
        "NumPy is a fundamental package for numerical computing in Python. It provides support for multidimensional arrays and matrices, along with a collection of mathematical functions to operate on these arrays efficiently. Key features of NumPy include:\n",
        "\n",
        "1. **N-dimensional Arrays**: NumPy's main object is the homogeneous multidimensional array called ndarray. These arrays can have any number of dimensions and contain elements of the same data type.\n",
        "\n",
        "2. **Efficient Operations**: NumPy provides a wide range of mathematical functions that operate element-wise on arrays, enabling efficient numerical computations.\n",
        "\n",
        "3. **Broadcasting**: NumPy's broadcasting capability allows operations between arrays of different shapes and sizes without explicitly iterating over them, which can greatly simplify code and improve performance.\n",
        "\n",
        "4. **Indexing and Slicing**: NumPy offers powerful indexing and slicing capabilities for accessing and modifying elements within arrays, including advanced techniques like boolean indexing and fancy indexing.\n",
        "\n",
        "5. **Integration with Other Libraries**: NumPy is the foundation for many other scientific computing libraries in Python, such as SciPy, Matplotlib, and scikit-learn. It seamlessly integrates with these libraries, providing a cohesive ecosystem for scientific computing."
      ],
      "metadata": {
        "id": "bLSNWR9IGn8L"
      }
    },
    {
      "cell_type": "markdown",
      "source": [
        "**Importing NumPy:**"
      ],
      "metadata": {
        "id": "s4EsxxGeGZCw"
      }
    },
    {
      "cell_type": "code",
      "source": [
        "import numpy as np"
      ],
      "metadata": {
        "id": "yMqCJuwKGV8n"
      },
      "execution_count": null,
      "outputs": []
    },
    {
      "cell_type": "markdown",
      "source": [
        "\n",
        "\n",
        "---\n",
        "\n"
      ],
      "metadata": {
        "id": "xmjYQymZGpLm"
      }
    },
    {
      "cell_type": "markdown",
      "source": [
        "# NumPy vs Python"
      ],
      "metadata": {
        "id": "S0pbFF6G0Owd"
      }
    },
    {
      "cell_type": "markdown",
      "source": [
        "\n",
        "NumPy arrays and Python lists are both used to store collections of data, but they have some fundamental differences in terms of functionality, performance, and memory usage. Here's a comparison between NumPy arrays and Python lists:\n",
        "\n",
        "1. **Functionality:**\n",
        "   - NumPy arrays: NumPy arrays are homogeneous, meaning all elements in the array are of the same data type. They support a wide range of mathematical operations and functions, such as element-wise operations, linear algebra, Fourier transforms, random number generation, and more. NumPy also provides advanced indexing and slicing capabilities.\n",
        "   - Python lists: Python lists can contain elements of different data types, making them heterogeneous. They offer basic functionality for iterating over elements, appending, inserting, and removing elements, but they lack specialized mathematical operations.\n",
        "\n",
        "2. **Performance:**\n",
        "   - NumPy arrays: NumPy arrays are highly optimized for numerical operations and are implemented in C, which makes them significantly faster than Python lists for numerical computations, especially when working with large datasets.\n",
        "   - Python lists: Python lists are implemented in Python itself, which can lead to slower performance compared to NumPy arrays, particularly for numerical computations involving large datasets.\n",
        "\n",
        "3. **Memory Usage:**\n",
        "   - NumPy arrays: NumPy arrays typically use less memory compared to Python lists, especially for large datasets, because they store data in a contiguous block of memory and can take advantage of data type optimizations.\n",
        "   - Python lists: Python lists can potentially use more memory compared to NumPy arrays due to the overhead of storing additional information about each element (e.g., type information, reference count).\n",
        "\n",
        "4. **Ease of Use:**\n",
        "   - NumPy arrays: NumPy arrays offer a wide range of functions and methods specifically designed for numerical computing tasks, making them convenient to use for scientific and mathematical applications.\n",
        "   - Python lists: Python lists are more general-purpose and flexible, making them easier to work with for tasks that do not involve numerical computations or require heterogeneous data types."
      ],
      "metadata": {
        "id": "0wazp7eyzjrI"
      }
    },
    {
      "cell_type": "code",
      "execution_count": null,
      "metadata": {
        "colab": {
          "base_uri": "https://localhost:8080/"
        },
        "id": "czfD2MXgx4zk",
        "outputId": "c6192ae9-f770-401d-d2a9-756d0389f013"
      },
      "outputs": [
        {
          "output_type": "stream",
          "name": "stdout",
          "text": [
            "Size of list: 8000056 bytes\n",
            "Size of array: 8000000 bytes\n",
            "Time to sum list: 10.72 milliseconds\n",
            "Time to sum array: 3.55 milliseconds\n"
          ]
        }
      ],
      "source": [
        "import sys\n",
        "\n",
        "# Create a list of 1000000 integers\n",
        "list_1000000 = list(range(1000000))\n",
        "\n",
        "# Create a NumPy array of 1000000 integers\n",
        "array_1000000 = np.arange(1000000)\n",
        "\n",
        "# Print the size of the list and the array in bytes\n",
        "print(f\"Size of list: {sys.getsizeof(list_1000000)} bytes\")\n",
        "print(f\"Size of array: {array_1000000.nbytes} bytes\")\n",
        "\n",
        "# Time how long it takes to sum the list and the array\n",
        "import time\n",
        "\n",
        "# Sum the list\n",
        "start_time = time.time()\n",
        "sum_list = sum(list_1000000)\n",
        "end_time = time.time()\n",
        "list_sum_time = (end_time - start_time) * 1000\n",
        "\n",
        "# Sum the array\n",
        "start_time = time.time()\n",
        "sum_array = np.sum(array_1000000)\n",
        "end_time = time.time()\n",
        "array_sum_time = (end_time - start_time) * 1000\n",
        "\n",
        "# Print the time it took to sum the list and the array\n",
        "print(f\"Time to sum list: {list_sum_time:.2f} milliseconds\")\n",
        "print(f\"Time to sum array: {array_sum_time:.2f} milliseconds\")\n"
      ]
    },
    {
      "cell_type": "markdown",
      "source": [
        "\n",
        "\n",
        "---\n",
        "\n"
      ],
      "metadata": {
        "id": "StE_j7jV15eK"
      }
    },
    {
      "cell_type": "markdown",
      "source": [
        "# NumPy Arrays\n"
      ],
      "metadata": {
        "id": "-u38banT2Tco"
      }
    },
    {
      "cell_type": "markdown",
      "source": [
        "**np.arange():**\n",
        "\n",
        "np.arange() is a function in NumPy used to create an array with regularly spaced values within a specified range. Its syntax is:"
      ],
      "metadata": {
        "id": "alFueTXS3J0w"
      }
    },
    {
      "cell_type": "code",
      "source": [
        " # numpy.arange([start, ]stop, [step, ]dtype=None)\n"
      ],
      "metadata": {
        "id": "3S0kQuy44uYM"
      },
      "execution_count": null,
      "outputs": []
    },
    {
      "cell_type": "markdown",
      "source": [
        "- `start`: Optional. The start of the interval (inclusive). Default is 0.\n",
        "- `stop`: The end of the interval (exclusive).\n",
        "- `step`: Optional. The step size between values. Default is 1.\n",
        "- `dtype`: Optional. The data type of the array. If not specified, the data type is inferred from the other input arguments."
      ],
      "metadata": {
        "id": "tb7Rzt8Y42hk"
      }
    },
    {
      "cell_type": "code",
      "source": [
        "# Create an array from 0 to 9\n",
        "arr = np.arange(10)\n",
        "print(arr)  # Output: [0 1 2 3 4 5 6 7 8 9]"
      ],
      "metadata": {
        "id": "jyrexZiI5JUo",
        "colab": {
          "base_uri": "https://localhost:8080/"
        },
        "outputId": "6dffae4f-755e-4aae-be93-04e662f8059d"
      },
      "execution_count": null,
      "outputs": [
        {
          "output_type": "stream",
          "name": "stdout",
          "text": [
            "[0 1 2 3 4 5 6 7 8 9]\n"
          ]
        }
      ]
    },
    {
      "cell_type": "markdown",
      "source": [
        "**NumPy Arrays (ndarrays):**\n",
        "\n",
        "NumPy arrays, or ndarrays, are the primary data structure used in NumPy. They are homogeneous collections of elements with fixed dimensions and have many similarities to Python lists but with additional functionality optimized for numerical computing.\n",
        "\n",
        "**1D Arrays:**\n",
        "\n",
        "1D arrays are like traditional arrays or lists. They have a single row and can be indexed using a single index."
      ],
      "metadata": {
        "id": "0W3SJMw65OPP"
      }
    },
    {
      "cell_type": "code",
      "source": [
        "# Create a 1D array\n",
        "arr_1d = np.array([1, 2, 3, 4, 5])\n",
        "print(arr_1d)       # Output: [1 2 3 4 5]\n",
        "print(arr_1d[0])    # Output: 1"
      ],
      "metadata": {
        "id": "lWnZWk3a5TyM",
        "colab": {
          "base_uri": "https://localhost:8080/"
        },
        "outputId": "805422f8-7f33-4e8a-bf08-cbe4e39454ce"
      },
      "execution_count": null,
      "outputs": [
        {
          "output_type": "stream",
          "name": "stdout",
          "text": [
            "[1 2 3 4 5]\n",
            "1\n"
          ]
        }
      ]
    },
    {
      "cell_type": "markdown",
      "source": [
        "**2D Arrays:**\n",
        "\n",
        "2D arrays, also known as matrices, have rows and columns. They are indexed using two indices, one for the row and one for the column."
      ],
      "metadata": {
        "id": "ZtTn_pQb5Zzo"
      }
    },
    {
      "cell_type": "code",
      "source": [
        "# Create a 2D array\n",
        "arr_2d = np.array([[1, 2, 3],\n",
        "                   [4, 5, 6],\n",
        "                   [7, 8, 9]])\n",
        "print(arr_2d)"
      ],
      "metadata": {
        "colab": {
          "base_uri": "https://localhost:8080/"
        },
        "id": "GtpDkoOI5b1B",
        "outputId": "981655d6-ac60-426e-d43f-9260d2213e59"
      },
      "execution_count": null,
      "outputs": [
        {
          "output_type": "stream",
          "name": "stdout",
          "text": [
            "[[1 2 3]\n",
            " [4 5 6]\n",
            " [7 8 9]]\n"
          ]
        }
      ]
    },
    {
      "cell_type": "markdown",
      "source": [
        "\n",
        "\n",
        "---\n",
        "\n"
      ],
      "metadata": {
        "id": "b8-urhei6H_W"
      }
    },
    {
      "cell_type": "markdown",
      "source": [
        "# Properties of nd Arrays"
      ],
      "metadata": {
        "id": "5Vukq0Rq6KhV"
      }
    },
    {
      "cell_type": "markdown",
      "source": [
        "**1. Shape:**\n",
        "\n",
        "The shape of an ndarray describes the size of each dimension of the array. It is represented as a tuple of integers indicating the number of elements along each dimension."
      ],
      "metadata": {
        "id": "4Btq-AEK8xjV"
      }
    },
    {
      "cell_type": "code",
      "source": [
        "# Create a 2D array\n",
        "arr_2d = np.array([[1, 2, 3], [4, 5, 6]])\n",
        "\n",
        "# Print the shape\n",
        "print(\"Shape of the array:\", arr_2d.shape)  # Output: (2, 3)"
      ],
      "metadata": {
        "id": "3yedCcc984ao",
        "colab": {
          "base_uri": "https://localhost:8080/"
        },
        "outputId": "2cd61f52-953a-43c9-9b4a-40e00ae4cc42"
      },
      "execution_count": null,
      "outputs": [
        {
          "output_type": "stream",
          "name": "stdout",
          "text": [
            "Shape of the array: (2, 3)\n"
          ]
        }
      ]
    },
    {
      "cell_type": "markdown",
      "source": [
        "**2. Data Type (dtype):**\n",
        "\n",
        "The data type of an ndarray specifies the type of elements stored in the array. NumPy arrays can hold elements of different types such as integers, floats, booleans, etc."
      ],
      "metadata": {
        "id": "PgrCHmH087lg"
      }
    },
    {
      "cell_type": "code",
      "source": [
        "# Create an array with a specific data type\n",
        "arr_float = np.array([1.1, 2.2, 3.3], dtype=np.float32)\n",
        "# Print the data type\n",
        "print(\"Data type of the array:\", arr_float.dtype)  # Output: float32"
      ],
      "metadata": {
        "id": "qx0SJ5yb8_nW",
        "colab": {
          "base_uri": "https://localhost:8080/"
        },
        "outputId": "74a2a67d-06ad-4522-b460-01481208803e"
      },
      "execution_count": null,
      "outputs": [
        {
          "output_type": "stream",
          "name": "stdout",
          "text": [
            "Data type of the array: float32\n"
          ]
        }
      ]
    },
    {
      "cell_type": "markdown",
      "source": [
        "**3. Size:**\n",
        "\n",
        "The size of an ndarray is the total number of elements in the array. It is equal to the product of the dimensions of the array."
      ],
      "metadata": {
        "id": "cKrlH8P09CUe"
      }
    },
    {
      "cell_type": "code",
      "source": [
        "# Create a 3D array\n",
        "arr_3d = np.zeros((2, 3, 4))\n",
        "print(arr_3d)\n",
        "\n",
        "# Print the size\n",
        "print(\"Size of the array:\", arr_3d.size)  # Output: 24 (2 * 3 * 4)"
      ],
      "metadata": {
        "id": "OX7HMmhf9G4r",
        "colab": {
          "base_uri": "https://localhost:8080/"
        },
        "outputId": "24b00703-751b-43dd-a3c5-e88fad0a1855"
      },
      "execution_count": null,
      "outputs": [
        {
          "output_type": "stream",
          "name": "stdout",
          "text": [
            "[[[0. 0. 0. 0.]\n",
            "  [0. 0. 0. 0.]\n",
            "  [0. 0. 0. 0.]]\n",
            "\n",
            " [[0. 0. 0. 0.]\n",
            "  [0. 0. 0. 0.]\n",
            "  [0. 0. 0. 0.]]]\n",
            "float64\n",
            "Size of the array: 24\n"
          ]
        }
      ]
    },
    {
      "cell_type": "markdown",
      "source": [
        "**4. Number of Dimensions (ndim):**\n",
        "\n",
        "The ndim attribute of an ndarray specifies the number of dimensions or axes of the array."
      ],
      "metadata": {
        "id": "aIN0o9oG9KXV"
      }
    },
    {
      "cell_type": "code",
      "source": [
        "# Create a 4D array\n",
        "arr_4d = np.ones((2, 3, 4, 5))\n",
        "\n",
        "# Print the number of dimensions\n",
        "print(\"Number of dimensions:\", arr_4d.ndim)  # Output: 4"
      ],
      "metadata": {
        "id": "WlkpMf1X9NYk",
        "colab": {
          "base_uri": "https://localhost:8080/"
        },
        "outputId": "7ded94f2-89f7-46ba-9c2e-c9e873bfeb6e"
      },
      "execution_count": null,
      "outputs": [
        {
          "output_type": "stream",
          "name": "stdout",
          "text": [
            "[[[[1. 1. 1. 1. 1.]\n",
            "   [1. 1. 1. 1. 1.]\n",
            "   [1. 1. 1. 1. 1.]\n",
            "   [1. 1. 1. 1. 1.]]\n",
            "\n",
            "  [[1. 1. 1. 1. 1.]\n",
            "   [1. 1. 1. 1. 1.]\n",
            "   [1. 1. 1. 1. 1.]\n",
            "   [1. 1. 1. 1. 1.]]\n",
            "\n",
            "  [[1. 1. 1. 1. 1.]\n",
            "   [1. 1. 1. 1. 1.]\n",
            "   [1. 1. 1. 1. 1.]\n",
            "   [1. 1. 1. 1. 1.]]]\n",
            "\n",
            "\n",
            " [[[1. 1. 1. 1. 1.]\n",
            "   [1. 1. 1. 1. 1.]\n",
            "   [1. 1. 1. 1. 1.]\n",
            "   [1. 1. 1. 1. 1.]]\n",
            "\n",
            "  [[1. 1. 1. 1. 1.]\n",
            "   [1. 1. 1. 1. 1.]\n",
            "   [1. 1. 1. 1. 1.]\n",
            "   [1. 1. 1. 1. 1.]]\n",
            "\n",
            "  [[1. 1. 1. 1. 1.]\n",
            "   [1. 1. 1. 1. 1.]\n",
            "   [1. 1. 1. 1. 1.]\n",
            "   [1. 1. 1. 1. 1.]]]]\n",
            "Number of dimensions: 4\n"
          ]
        }
      ]
    },
    {
      "cell_type": "markdown",
      "source": [
        "**5. Itemsize:**\n",
        "\n",
        "The itemsize attribute of an ndarray specifies the size of each element in bytes."
      ],
      "metadata": {
        "id": "7qYjc71S9QKe"
      }
    },
    {
      "cell_type": "code",
      "source": [
        "# Create an array of integers\n",
        "arr_int = np.array([1, 2, 3])\n",
        "print(arr_int.dtype)\n",
        "# Print the item size\n",
        "print(\"Size of each element (in bytes):\", arr_int.itemsize)  # Output: 8 (for 64-bit integer)"
      ],
      "metadata": {
        "id": "snbxHA3Y9TzQ",
        "colab": {
          "base_uri": "https://localhost:8080/"
        },
        "outputId": "918f7479-5fe0-458c-9785-6a56d9aa0ec7"
      },
      "execution_count": null,
      "outputs": [
        {
          "output_type": "stream",
          "name": "stdout",
          "text": [
            "int64\n",
            "Size of each element (in bytes): 8\n"
          ]
        }
      ]
    },
    {
      "cell_type": "markdown",
      "source": [
        "\n",
        "\n",
        "---\n",
        "\n"
      ],
      "metadata": {
        "id": "e5eil4jI9WsI"
      }
    },
    {
      "cell_type": "markdown",
      "source": [],
      "metadata": {
        "id": "zd45-PRZ9YsR"
      }
    },
    {
      "cell_type": "markdown",
      "source": [
        "#NumPy Data Types and Precision"
      ],
      "metadata": {
        "id": "U-TI9vMzA_9b"
      }
    },
    {
      "cell_type": "markdown",
      "source": [
        "**NumPy Data Types (dtypes):**\n",
        "\n",
        "NumPy provides a variety of data types to represent different kinds of numerical data. These data types are important for controlling memory usage and ensuring data integrity in numerical computations.\n",
        "\n",
        "**Common NumPy Data Types:**\n",
        "\n",
        "- **int**: Integer (default size depends on the platform).\n",
        "- **float**: Floating point number (default size depends on the platform).\n",
        "- **bool**: Boolean (True or False).\n",
        "- **complex**: Complex number with real and imaginary parts.\n",
        "- **uint**: Unsigned integer (no negative values).\n",
        "\n",
        "**Specifying Data Types:**\n",
        "\n",
        "You can specify the data type of an ndarray using the `dtype` parameter of NumPy functions or by providing the data type as an argument to the array creation functions."
      ],
      "metadata": {
        "id": "alGeW4-HBF5q"
      }
    },
    {
      "cell_type": "code",
      "source": [
        "# Create an array with a specific data type\n",
        "arr_int32 = np.array([1, 2, 3], dtype=np.int32)\n",
        "arr_float64 = np.array([1.1, 2.2, 3.3], dtype=np.float64)\n",
        "\n",
        "print(\"Data type of arr_int32:\", arr_int32.dtype)   # Output: int32\n",
        "print(\"Data type of arr_float64:\", arr_float64.dtype)   # Output: float64"
      ],
      "metadata": {
        "id": "F7ws1meJBUpK",
        "colab": {
          "base_uri": "https://localhost:8080/"
        },
        "outputId": "baa2079e-30b9-4602-9c25-0cac6b38d199"
      },
      "execution_count": null,
      "outputs": [
        {
          "output_type": "stream",
          "name": "stdout",
          "text": [
            "Data type of arr_int32: int32\n",
            "Data type of arr_float64: float64\n"
          ]
        }
      ]
    },
    {
      "cell_type": "markdown",
      "source": [
        "**Precision:**\n",
        "\n",
        "Precision refers to the level of detail and accuracy with which numerical values are represented. NumPy data types have different levels of precision, which determine the range of values they can represent and the amount of memory they occupy."
      ],
      "metadata": {
        "id": "yyhKQ0a7BX24"
      }
    },
    {
      "cell_type": "code",
      "source": [
        "# Create an array with different data types\n",
        "arr_int32 = np.array([1234567890, 1234567890], dtype=np.int32)\n",
        "arr_int64 = np.array([1234567890, 1234567890], dtype=np.int64)\n",
        "\n",
        "print(\"Data type of arr_int32:\", arr_int32.dtype)   # Output: int32\n",
        "print(\"Data type of arr_int64:\", arr_int64.dtype)   # Output: int64\n",
        "\n",
        "print(arr_int32)\n",
        "\n",
        "# In this example, the `int32` data type has limited precision compared to `int64`, which can represent larger integers without loss of precision."
      ],
      "metadata": {
        "colab": {
          "base_uri": "https://localhost:8080/"
        },
        "id": "ng23CdYzBqyq",
        "outputId": "254bb477-9291-47a8-d990-fb65f7e17a3a"
      },
      "execution_count": null,
      "outputs": [
        {
          "output_type": "stream",
          "name": "stdout",
          "text": [
            "Data type of arr_int32: int32\n",
            "Data type of arr_int64: int64\n",
            "[1234567890 1234567890]\n"
          ]
        }
      ]
    },
    {
      "cell_type": "markdown",
      "source": [
        "**Impact of Precision on Memory Usage:**"
      ],
      "metadata": {
        "id": "sQca8_w7BuFD"
      }
    },
    {
      "cell_type": "code",
      "source": [
        "# Create arrays with different data types\n",
        "arr_float32 = np.array([1.1, 2.2, 3.3], dtype=np.float32)\n",
        "arr_float64 = np.array([1.1, 2.2, 3.3], dtype=np.float64)\n",
        "\n",
        "print(\"Memory usage of arr_float32:\", arr_float32.itemsize * arr_float32.size, \"bytes\")  # Output: 12 bytes (3 elements * 4 bytes/element)\n",
        "print(\"Memory usage of arr_float64:\", arr_float64.itemsize * arr_float64.size, \"bytes\")  # Output: 24 bytes (3 elements * 8 bytes/element)"
      ],
      "metadata": {
        "id": "UFw4GRuIB7If",
        "colab": {
          "base_uri": "https://localhost:8080/"
        },
        "outputId": "f77d16e7-6627-4a65-fda9-dde451b21fb0"
      },
      "execution_count": null,
      "outputs": [
        {
          "output_type": "stream",
          "name": "stdout",
          "text": [
            "Memory usage of arr_float32: 12 bytes\n",
            "Memory usage of arr_float64: 24 bytes\n"
          ]
        }
      ]
    },
    {
      "cell_type": "markdown",
      "source": [
        "**Example differentiating float32 and float64:**\n"
      ],
      "metadata": {
        "id": "7hZtK7bzCVh0"
      }
    },
    {
      "cell_type": "code",
      "source": [
        "# Create a large array with float32 and float64 data types\n",
        "large_array_float32 = np.arange(1000000, dtype=np.float32)\n",
        "large_array_float64 = np.arange(1000000, dtype=np.float64)\n",
        "\n",
        "# Calculate the sum of elements\n",
        "sum_float32 = np.sum(large_array_float32)\n",
        "sum_float64 = np.sum(large_array_float64)\n",
        "\n",
        "print(\"Sum using float32:\", sum_float32)\n",
        "print(\"Sum using float64:\", sum_float64)"
      ],
      "metadata": {
        "colab": {
          "base_uri": "https://localhost:8080/"
        },
        "id": "H9bFxJEgCpKn",
        "outputId": "c1387830-6dab-41fc-b03f-949eae484916"
      },
      "execution_count": null,
      "outputs": [
        {
          "output_type": "stream",
          "name": "stdout",
          "text": [
            "Sum using float32: 499999800000.0\n",
            "Sum using float64: 499999500000.0\n"
          ]
        }
      ]
    },
    {
      "cell_type": "markdown",
      "source": [
        "\n",
        "\n",
        "---\n",
        "\n"
      ],
      "metadata": {
        "id": "O99LEbblFj-p"
      }
    },
    {
      "cell_type": "markdown",
      "source": [
        "# np.zeros, np.ones, np.full:"
      ],
      "metadata": {
        "id": "1_oOKUmEFli5"
      }
    },
    {
      "cell_type": "markdown",
      "source": [
        "**np.zeros:**\n",
        "\n",
        "`np.zeros` creates an array filled with zeros. It takes the shape of the desired array as input and returns an array of that shape filled with zeros.\n",
        "\n",
        "Syntax:\n",
        "```python\n",
        "numpy.zeros(shape, dtype=float)\n",
        "```\n",
        "\n",
        "- `shape`: The shape of the array (tuple of integers).\n",
        "- `dtype`: Optional. The data type of the array. Default is `float`."
      ],
      "metadata": {
        "id": "R1Lc2sy6Fq4j"
      }
    },
    {
      "cell_type": "code",
      "source": [
        "# Create a 2x3 array filled with zeros\n",
        "zeros_array = np.zeros((2, 3))\n",
        "print(zeros_array)"
      ],
      "metadata": {
        "colab": {
          "base_uri": "https://localhost:8080/"
        },
        "id": "uKj1mJv7FwQ2",
        "outputId": "2217d7a2-3393-498a-f631-c544fe48d7d0"
      },
      "execution_count": null,
      "outputs": [
        {
          "output_type": "stream",
          "name": "stdout",
          "text": [
            "[[0. 0. 0.]\n",
            " [0. 0. 0.]]\n"
          ]
        }
      ]
    },
    {
      "cell_type": "markdown",
      "source": [
        "**np.ones:**\n",
        "\n",
        "`np.ones` creates an array filled with ones. Similar to `np.zeros`, it takes the shape of the desired array as input and returns an array of that shape filled with ones.\n",
        "\n",
        "Syntax:\n",
        "```python\n",
        "numpy.ones(shape, dtype=None)\n",
        "```\n",
        "\n",
        "- `shape`: The shape of the array (tuple of integers).\n",
        "- `dtype`: Optional. The data type of the array. If not specified, the default is determined by the data type of `1`."
      ],
      "metadata": {
        "id": "FKuHvvz2FzjQ"
      }
    },
    {
      "cell_type": "code",
      "source": [
        "# Create a 3x2 array filled with ones\n",
        "ones_array = np.ones((3, 2))\n",
        "print(ones_array)"
      ],
      "metadata": {
        "colab": {
          "base_uri": "https://localhost:8080/"
        },
        "id": "arAwDaRTF3mG",
        "outputId": "079348ce-508c-4bdd-fe32-7114ac39b7ca"
      },
      "execution_count": null,
      "outputs": [
        {
          "output_type": "stream",
          "name": "stdout",
          "text": [
            "[[1. 1.]\n",
            " [1. 1.]\n",
            " [1. 1.]]\n"
          ]
        }
      ]
    },
    {
      "cell_type": "markdown",
      "source": [
        "**np.full:**\n",
        "\n",
        "`np.full` creates an array filled with a specified constant value. It takes the shape of the desired array and the constant value as input and returns an array of that shape filled with the specified value.\n",
        "\n",
        "Syntax:\n",
        "```python\n",
        "numpy.full(shape, fill_value, dtype=None)\n",
        "```\n",
        "\n",
        "- `shape`: The shape of the array (tuple of integers).\n",
        "- `fill_value`: The constant value to fill the array with.\n",
        "- `dtype`: Optional. The data type of the array. If not specified, the default is determined by the data type of `fill_value`.\n"
      ],
      "metadata": {
        "id": "66cwbU7cF51G"
      }
    },
    {
      "cell_type": "code",
      "source": [
        "# Create a 2x2 array filled with 5\n",
        "full_array = np.full((2, 2), 4.5)\n",
        "print(full_array)"
      ],
      "metadata": {
        "id": "zSnUrlsGF-Kb",
        "colab": {
          "base_uri": "https://localhost:8080/"
        },
        "outputId": "5ca2673f-9871-4c53-c781-ece034de5bc6"
      },
      "execution_count": null,
      "outputs": [
        {
          "output_type": "stream",
          "name": "stdout",
          "text": [
            "[[4.5 4.5]\n",
            " [4.5 4.5]]\n"
          ]
        }
      ]
    },
    {
      "cell_type": "markdown",
      "source": [
        "\n",
        "\n",
        "---\n",
        "\n"
      ],
      "metadata": {
        "id": "ITCg4WpkJRLH"
      }
    },
    {
      "cell_type": "markdown",
      "source": [
        "# Array Operations - NumPy"
      ],
      "metadata": {
        "id": "In6DnhDqSKwJ"
      }
    },
    {
      "cell_type": "markdown",
      "source": [
        "**1. Arithmetic Operations:**"
      ],
      "metadata": {
        "id": "L6IcGeJnTCwP"
      }
    },
    {
      "cell_type": "code",
      "source": [
        "# Addition\n",
        "arr_sum = np.add([1, 2, 3], [4, 5, 6])\n",
        "print(\"Addition:\", arr_sum)  # Output: [5 7 9]\n",
        "\n",
        "# Subtraction\n",
        "arr_diff = np.subtract([5, 6, 7], [2, 3, 1])\n",
        "print(\"Subtraction:\", arr_diff)  # Output: [3 3 6]\n",
        "\n",
        "# Multiplication\n",
        "arr_prod = np.multiply([2, 3, 4], [3, 4, 5])\n",
        "print(\"Multiplication:\", arr_prod)  # Output: [ 6 12 20]\n",
        "\n",
        "# Division\n",
        "arr_div = np.divide([10, 12, 14], [2, 3, 2])\n",
        "print(\"Division:\", arr_div)  # Output: [5. 4. 7.]\n",
        "\n",
        "# Modulus\n",
        "arr_mod = np.mod([10, 11, 12], [3, 4, 5])\n",
        "print(\"Modulus:\", arr_mod)  # Output: [1 3 2]\n",
        "\n",
        "# Exponentiation\n",
        "arr_pow = np.power([2, 3, 4], [2, 3, 2])\n",
        "print(\"Exponentiation:\", arr_pow)  # Output: [ 4 27 16]\n"
      ],
      "metadata": {
        "id": "FEPDwDo3TUmu",
        "colab": {
          "base_uri": "https://localhost:8080/"
        },
        "outputId": "2df75181-9f5b-4962-99fd-2e2c0de8b4e0"
      },
      "execution_count": null,
      "outputs": [
        {
          "output_type": "stream",
          "name": "stdout",
          "text": [
            "Addition: [5 7 9]\n",
            "Subtraction: [3 3 6]\n",
            "Multiplication: [ 6 12 20]\n",
            "Division: [5. 4. 7.]\n",
            "Modulus: [1 3 2]\n",
            "Exponentiation: [ 4 27 16]\n"
          ]
        }
      ]
    },
    {
      "cell_type": "markdown",
      "source": [
        "**2. Relational Operations:**"
      ],
      "metadata": {
        "id": "V0WYQ2n2Tj9b"
      }
    },
    {
      "cell_type": "code",
      "source": [
        "# Create sample arrays\n",
        "arr1 = np.array([1, 2, 3, 4])\n",
        "arr2 = np.array([2, 2, 4, 3])\n",
        "\n",
        "# Equal\n",
        "print(\"Equal:\", arr1 == arr2)  # Output: [False  True False False]\n",
        "\n",
        "# Not Equal\n",
        "print(\"Not Equal:\", arr1 != arr2)  # Output: [ True False  True  True]\n",
        "\n",
        "# Greater Than\n",
        "print(\"Greater Than:\", arr1 > arr2)  # Output: [False False False  True]\n",
        "\n",
        "# Greater Than or Equal To\n",
        "print(\"Greater Than or Equal To:\", arr1 >= arr2)  # Output: [False  True False  True]\n",
        "\n",
        "# Less Than\n",
        "print(\"Less Than:\", arr1 < arr2)  # Output: [ True False False False]\n",
        "\n",
        "# Less Than or Equal To\n",
        "print(\"Less Than or Equal To:\", arr1 <= arr2)  # Output: [ True  True  True False]\n"
      ],
      "metadata": {
        "colab": {
          "base_uri": "https://localhost:8080/"
        },
        "id": "0hsQ6mFITeBx",
        "outputId": "5d8fe118-5e36-4810-8223-625820556476"
      },
      "execution_count": null,
      "outputs": [
        {
          "output_type": "stream",
          "name": "stdout",
          "text": [
            "Equal: [False  True False False]\n",
            "Not Equal: [ True False  True  True]\n",
            "Greater Than: [False False False  True]\n",
            "Greater Than or Equal To: [False  True False  True]\n",
            "Less Than: [ True False  True False]\n",
            "Less Than or Equal To: [ True  True  True False]\n"
          ]
        }
      ]
    },
    {
      "cell_type": "markdown",
      "source": [
        "\n",
        "\n",
        "---\n",
        "\n"
      ],
      "metadata": {
        "id": "wGgwf9xCSP1Y"
      }
    },
    {
      "cell_type": "markdown",
      "source": [
        "# Indexing and Slicing for 1D Arrays"
      ],
      "metadata": {
        "id": "XQ9lgYpdJbME"
      }
    },
    {
      "cell_type": "markdown",
      "source": [
        "**1. Indexing:**\n",
        "\n",
        "Indexing refers to accessing individual elements of an array using their position (index) within the array. In NumPy, indexing starts from 0, so the first element has index 0, the second element has index 1, and so on."
      ],
      "metadata": {
        "id": "vWhz3uK-J6r5"
      }
    },
    {
      "cell_type": "code",
      "source": [
        "# Create a 1D array\n",
        "arr = np.array([1, 2, 3, 4, 5])\n",
        "\n",
        "# Access individual elements using indexing\n",
        "print(\"First element:\", arr[0])   # Output: 1\n",
        "print(\"Second element:\", arr[1])  # Output: 2\n",
        "print(\"Last element:\", arr[-1])   # Output: 5 (negative indexing)"
      ],
      "metadata": {
        "id": "kiYdyPwNJ1RB",
        "colab": {
          "base_uri": "https://localhost:8080/"
        },
        "outputId": "942aa5c4-efa5-4990-d31c-00d536ab0cb4"
      },
      "execution_count": null,
      "outputs": [
        {
          "output_type": "stream",
          "name": "stdout",
          "text": [
            "First element: 1\n",
            "Second element: 2\n",
            "Last element: 5\n"
          ]
        }
      ]
    },
    {
      "cell_type": "markdown",
      "source": [
        "**2. Slicing:**\n",
        "\n",
        "Slicing allows you to extract a subset of elements from an array by specifying a range of indices. The basic syntax for slicing is `start:stop:step`, where `start` is the starting index (inclusive), `stop` is the ending index (exclusive), and `step` is the step size."
      ],
      "metadata": {
        "id": "ApJEEiLjJ-Cv"
      }
    },
    {
      "cell_type": "code",
      "source": [
        "# Create a 1D array\n",
        "arr = np.array([1, 2, 3, 4, 5])\n",
        "\n",
        "# Slice elements from index 1 to index 3 (exclusive)\n",
        "print(\"Slice:\", arr[1:3])  # Output: [2 3]\n",
        "\n",
        "# Slice elements from index 0 to index 4 with step size 2\n",
        "print(\"Slice with step:\", arr[0:4:2])  # Output: [1 3]"
      ],
      "metadata": {
        "id": "jj2XK6jAKAtF",
        "colab": {
          "base_uri": "https://localhost:8080/"
        },
        "outputId": "3c025b54-9a98-4c95-959a-441fc8fe2970"
      },
      "execution_count": null,
      "outputs": [
        {
          "output_type": "stream",
          "name": "stdout",
          "text": [
            "Slice: [2 3]\n",
            "Slice with step: [1 3]\n"
          ]
        }
      ]
    },
    {
      "cell_type": "markdown",
      "source": [
        "**3. Negative Indexing:**\n",
        "\n",
        "Negative indexing allows you to access elements from the end of the array by specifying negative indices. `-1` refers to the last element, `-2` refers to the second last element, and so on."
      ],
      "metadata": {
        "id": "eEacHvsDKD7D"
      }
    },
    {
      "cell_type": "code",
      "source": [
        "# Create a 1D array\n",
        "arr = np.array([1, 2, 3, 4, 5])\n",
        "\n",
        "# Access the last element using negative indexing\n",
        "print(\"Last element:\", arr[-1])  # Output: 5"
      ],
      "metadata": {
        "id": "8O_Mp4z8KGfo",
        "colab": {
          "base_uri": "https://localhost:8080/"
        },
        "outputId": "b9349734-4cb9-41f7-9ff7-dd5afaf2a710"
      },
      "execution_count": null,
      "outputs": [
        {
          "output_type": "stream",
          "name": "stdout",
          "text": [
            "Last element: 5\n"
          ]
        }
      ]
    },
    {
      "cell_type": "markdown",
      "source": [
        "**4. Slicing with Omitted Indices:**\n",
        "\n",
        "You can omit any of the slicing parameters to use default values. Omitting `start` defaults to 0, omitting `stop` defaults to the end of the array, and omitting `step` defaults to 1.\n"
      ],
      "metadata": {
        "id": "N6b8_PeWKaPs"
      }
    },
    {
      "cell_type": "code",
      "source": [
        "# Create a 1D array\n",
        "arr = np.array([1, 2, 3, 4, 5])\n",
        "\n",
        "# Slice elements from the beginning to index 3 (exclusive)\n",
        "print(\"Slice with omitted start:\", arr[:3])  # Output: [1 2 3]\n",
        "\n",
        "# Slice elements from index 2 to the end\n",
        "print(\"Slice with omitted stop:\", arr[2:])  # Output: [3 4 5]\n",
        "\n",
        "# Slice elements with step size 2\n",
        "print(\"Slice with omitted step:\", arr[::2])  # Output: [1 3 5]"
      ],
      "metadata": {
        "id": "qHKRtSrfKedx",
        "colab": {
          "base_uri": "https://localhost:8080/"
        },
        "outputId": "13c531b9-eb20-4137-8fbd-f8d33427c2a0"
      },
      "execution_count": null,
      "outputs": [
        {
          "output_type": "stream",
          "name": "stdout",
          "text": [
            "Slice with omitted start: [1 2 3]\n",
            "Slice with omitted stop: [3 4 5]\n",
            "Slice with omitted step: [1 3 5]\n"
          ]
        }
      ]
    },
    {
      "cell_type": "markdown",
      "source": [
        "\n",
        "\n",
        "---\n",
        "\n"
      ],
      "metadata": {
        "id": "F96UBQKyKhaC"
      }
    },
    {
      "cell_type": "markdown",
      "source": [
        "\n",
        "# Indexing and Slicing for 2D Arrays"
      ],
      "metadata": {
        "id": "hEtKRFicLLtX"
      }
    },
    {
      "cell_type": "markdown",
      "source": [
        "**1. Indexing:**\n",
        "\n",
        "Indexing refers to accessing individual elements of an array using their position (index) within the array. In a 2D array, indexing is done using row and column indices."
      ],
      "metadata": {
        "id": "AyrKoGb6LP7p"
      }
    },
    {
      "cell_type": "code",
      "source": [
        "# Create a 2D array\n",
        "arr = np.array([[1, 2, 3],\n",
        "                [4, 5, 6],\n",
        "                [7, 8, 9]])\n",
        "\n",
        "# Access individual elements using indexing\n",
        "print(\"Element at (0, 0):\", arr[0, 0])  # Output: 1\n",
        "print(\"Element at (1, 2):\", arr[1, 2])  # Output: 6"
      ],
      "metadata": {
        "id": "GQwB7fN_LWik",
        "colab": {
          "base_uri": "https://localhost:8080/"
        },
        "outputId": "5009bd8c-25ec-4584-9b2f-7fb4dbec9d36"
      },
      "execution_count": null,
      "outputs": [
        {
          "output_type": "stream",
          "name": "stdout",
          "text": [
            "Element at (0, 0): 1\n",
            "Element at (1, 2): 6\n"
          ]
        }
      ]
    },
    {
      "cell_type": "markdown",
      "source": [
        "**2. Slicing:**\n",
        "\n",
        "Slicing allows you to extract a subset of elements from an array by specifying ranges of row and column indices. The basic syntax for slicing is `start:stop:step`, where `start` is the starting index (inclusive), `stop` is the ending index (exclusive), and `step` is the step size."
      ],
      "metadata": {
        "id": "otAvIF-8LZwi"
      }
    },
    {
      "cell_type": "code",
      "source": [
        "# Create a 2D array\n",
        "arr = np.array([[1, 2, 3],\n",
        "                [4, 5, 6],\n",
        "                [7, 8, 9]])\n",
        "\n",
        "# Slice elements from rows 0 to 1 (exclusive) and columns 1 to 2 (exclusive)\n",
        "print(\"Slice:\", arr[0:2, 1:3])\n",
        "\n",
        "\n",
        "# Modify slice\n",
        "arr[0:2, 1:3] = [[10, 20], [30, 40]]\n",
        "print(\"Modified array after slicing:\", arr)\n"
      ],
      "metadata": {
        "id": "Aj8pYoDWLciu",
        "colab": {
          "base_uri": "https://localhost:8080/"
        },
        "outputId": "1f21f270-fbe3-4239-be83-9319b6363d1d"
      },
      "execution_count": null,
      "outputs": [
        {
          "output_type": "stream",
          "name": "stdout",
          "text": [
            "Slice: [[2 3]\n",
            " [5 6]]\n",
            "Modified array after slicing: [[ 1 10 20]\n",
            " [ 4 30 40]\n",
            " [ 7  8  9]]\n"
          ]
        }
      ]
    },
    {
      "cell_type": "markdown",
      "source": [
        "**3. Negative Indexing:**\n",
        "\n",
        "Negative indexing can also be used in 2D arrays to access elements from the end of the array."
      ],
      "metadata": {
        "id": "RYdDrCyLLjai"
      }
    },
    {
      "cell_type": "code",
      "source": [
        "# Create a 2D array\n",
        "arr = np.array([[1, 2, 3],\n",
        "                [4, 5, 6],\n",
        "                [7, 8, 9]])\n",
        "\n",
        "# Access the last element using negative indexing\n",
        "print(\"Last element:\", arr[-1, -1])  # Output: 9"
      ],
      "metadata": {
        "id": "G4hD-8hHLmnv",
        "colab": {
          "base_uri": "https://localhost:8080/"
        },
        "outputId": "4d0ab984-604c-4abb-f294-955c5424e5c1"
      },
      "execution_count": null,
      "outputs": [
        {
          "output_type": "stream",
          "name": "stdout",
          "text": [
            "Last element: 9\n"
          ]
        }
      ]
    },
    {
      "cell_type": "markdown",
      "source": [
        "**4. Slicing with Omitted Indices:**\n",
        "\n",
        "You can omit any of the slicing parameters to use default values. Omitting `start` defaults to 0, omitting `stop` defaults to the end of the array, and omitting `step` defaults to 1."
      ],
      "metadata": {
        "id": "Dj2VFofGLrL7"
      }
    },
    {
      "cell_type": "code",
      "source": [
        "# Create a 2D array\n",
        "arr = np.array([[1, 2, 3],\n",
        "                [4, 5, 6],\n",
        "                [7, 8, 9]])\n",
        "\n",
        "# Slice elements from rows 1 to the end and all columns\n",
        "print(\"Slice with omitted start and stop:\", arr[1:])\n",
        "\n",
        "# Slice elements from all rows and columns 0 to 1 (exclusive) with step size 2\n",
        "print(\"Slice with omitted step:\", arr[:, 0:2:2])"
      ],
      "metadata": {
        "id": "6qvYR1P-Lu0w",
        "colab": {
          "base_uri": "https://localhost:8080/"
        },
        "outputId": "0fbfa345-7762-4126-910f-7bca1b3528fd"
      },
      "execution_count": null,
      "outputs": [
        {
          "output_type": "stream",
          "name": "stdout",
          "text": [
            "Slice with omitted start and stop: [[4 5 6]\n",
            " [7 8 9]]\n",
            "Slice with omitted step: [[1]\n",
            " [4]\n",
            " [7]]\n"
          ]
        }
      ]
    },
    {
      "cell_type": "markdown",
      "source": [
        "\n",
        "\n",
        "---\n",
        "\n"
      ],
      "metadata": {
        "id": "aZmn0FGFLybO"
      }
    },
    {
      "cell_type": "markdown",
      "source": [
        "# Mass Level Indexing and Slicing"
      ],
      "metadata": {
        "id": "IN14LxKPNE9h"
      }
    },
    {
      "cell_type": "markdown",
      "source": [
        "**1. Boolean Indexing:**\n",
        "\n",
        "Boolean indexing allows you to select elements from an array based on a condition. You create a boolean mask indicating which elements satisfy the condition, and then use this mask to extract the desired elements."
      ],
      "metadata": {
        "id": "UZk_FpPmNO9m"
      }
    },
    {
      "cell_type": "code",
      "source": [
        "# Create a 1D array\n",
        "arr_1d = np.array([1, 2, 3, 4, 5])\n",
        "\n",
        "# Boolean mask for elements greater than 3\n",
        "mask = arr_1d > 3\n",
        "\n",
        "# Use boolean mask to select elements\n",
        "selected_elements = arr_1d[mask]\n",
        "print(\"Selected elements:\", selected_elements)"
      ],
      "metadata": {
        "id": "7Rpzz1aGOVMN",
        "colab": {
          "base_uri": "https://localhost:8080/"
        },
        "outputId": "0c91f182-3833-40bc-9f6b-f08aeb53d8c1"
      },
      "execution_count": null,
      "outputs": [
        {
          "output_type": "stream",
          "name": "stdout",
          "text": [
            "Selected elements: [4 5]\n"
          ]
        }
      ]
    },
    {
      "cell_type": "code",
      "source": [
        "# Create a 2D array\n",
        "arr_2d = np.array([[1, 2, 3], # False, False, True\n",
        "                    [4, 5, 6],\n",
        "                    [7, 8, 9]])\n",
        "\n",
        "# Boolean indexing to select elements greater than 2\n",
        "result_2d = arr_2d[arr_2d > 2]\n",
        "print(\"Elements greater than 2 in 2D array:\", result_2d)\n"
      ],
      "metadata": {
        "id": "45vzVS0sOXiL",
        "colab": {
          "base_uri": "https://localhost:8080/"
        },
        "outputId": "b8a4e2cb-9908-45e5-a8a2-36fa54405290"
      },
      "execution_count": null,
      "outputs": [
        {
          "output_type": "stream",
          "name": "stdout",
          "text": [
            "Elements greater than 2 in 2D array: [3 4 5 6 7 8 9]\n"
          ]
        }
      ]
    },
    {
      "cell_type": "markdown",
      "source": [
        "**2. Fancy Indexing:**\n",
        "\n",
        "Fancy indexing allows you to select elements from an array using arrays of indices. You provide arrays of indices along each axis, and the elements at those indices are returned as a new array."
      ],
      "metadata": {
        "id": "l3SLXvwVOdhh"
      }
    },
    {
      "cell_type": "code",
      "source": [
        "# Create a 1D array\n",
        "arr_1d = np.array([1, 2, 3, 4, 5])\n",
        "\n",
        "# Fancy indexing\n",
        "indices = [0, 2, 4]\n",
        "selected_elements = arr_1d[indices]\n",
        "print(\"Selected elements:\", selected_elements)"
      ],
      "metadata": {
        "id": "E7LTDruGOhNv",
        "colab": {
          "base_uri": "https://localhost:8080/"
        },
        "outputId": "3faf8470-de4c-4028-ccb6-e210bb8073b5"
      },
      "execution_count": null,
      "outputs": [
        {
          "output_type": "stream",
          "name": "stdout",
          "text": [
            "Selected elements: [1 3 5]\n"
          ]
        }
      ]
    },
    {
      "cell_type": "markdown",
      "source": [
        "# Playing with Arrays"
      ],
      "metadata": {
        "id": "ccU3TCyoEJDo"
      }
    },
    {
      "cell_type": "markdown",
      "source": [
        "**1. Transposing Arrays:**\n",
        "\n",
        "Transposing an array means exchanging its rows and columns. In NumPy, you can transpose an array using the `T` attribute or the `transpose()` function."
      ],
      "metadata": {
        "id": "MnxZZVUcOo8w"
      }
    },
    {
      "cell_type": "code",
      "source": [
        "# Create a 2D array\n",
        "arr_2d = np.array([[1, 2, 3],\n",
        "                    [4, 5, 6]])\n",
        "\n",
        "# Transpose the array\n",
        "transposed_arr = arr_2d.T\n",
        "print(\"Transposed array:\")\n",
        "print(transposed_arr)"
      ],
      "metadata": {
        "id": "XaNSZTqJOtfa",
        "colab": {
          "base_uri": "https://localhost:8080/"
        },
        "outputId": "4f07ccf7-f2c8-447d-c3c3-6cf2eb414a6e"
      },
      "execution_count": null,
      "outputs": [
        {
          "output_type": "stream",
          "name": "stdout",
          "text": [
            "Transposed array:\n",
            "[[1 4]\n",
            " [2 5]\n",
            " [3 6]]\n"
          ]
        }
      ]
    },
    {
      "cell_type": "markdown",
      "source": [
        "**2. Swapping Axes:**\n",
        "\n",
        "Swapping axes means rearranging the dimensions of an array. You can swap axes using the `swapaxes()` function."
      ],
      "metadata": {
        "id": "RTBD8-_3O4go"
      }
    },
    {
      "cell_type": "code",
      "source": [
        "# Create a 2D array\n",
        "arr_2d = np.array([[1, 2, 3],\n",
        "                    [4, 5, 6]])\n",
        "\n",
        "# Swap axes\n",
        "swapped_arr = arr_2d.swapaxes(0,1)\n",
        "print(\"Swapped array:\")\n",
        "print(swapped_arr)"
      ],
      "metadata": {
        "id": "td_LK30PO7uF",
        "colab": {
          "base_uri": "https://localhost:8080/"
        },
        "outputId": "0bba3f58-d4df-45a9-ee60-f98719218484"
      },
      "execution_count": null,
      "outputs": [
        {
          "output_type": "stream",
          "name": "stdout",
          "text": [
            "Swapped array:\n",
            "[[1 4]\n",
            " [2 5]\n",
            " [3 6]]\n"
          ]
        }
      ]
    },
    {
      "cell_type": "code",
      "source": [
        "# Create a 3D array of shape (2, 3, 4)\n",
        "# Think of it as 2 layers of 3x4 matrices\n",
        "array_3d = np.array([[[ 1,  2,  3,  4],\n",
        "                      [ 5,  6,  7,  8],\n",
        "                      [ 9, 10, 11, 12]],\n",
        "\n",
        "                     [[13, 14, 15, 16],\n",
        "                      [17, 18, 19, 20],\n",
        "                      [21, 22, 23, 24]]])\n",
        "\n",
        "print(\"Original array shape:\", array_3d.shape)\n",
        "\n",
        "# Swap the first and last axes (depth with columns)\n",
        "swapped_array = np.swapaxes(array_3d, 0, 2)\n",
        "\n",
        "print(\"Swapped array shape:\", swapped_array.shape)\n",
        "print(\"Swapped array data:\\n\", swapped_array)\n"
      ],
      "metadata": {
        "colab": {
          "base_uri": "https://localhost:8080/"
        },
        "id": "oerTdYHaIQgv",
        "outputId": "8d638cd0-fcce-43dd-817e-ee7b43d83a1f"
      },
      "execution_count": null,
      "outputs": [
        {
          "output_type": "stream",
          "name": "stdout",
          "text": [
            "Original array shape: (2, 3, 4)\n",
            "Swapped array shape: (4, 3, 2)\n",
            "Swapped array data:\n",
            " [[[ 1 13]\n",
            "  [ 5 17]\n",
            "  [ 9 21]]\n",
            "\n",
            " [[ 2 14]\n",
            "  [ 6 18]\n",
            "  [10 22]]\n",
            "\n",
            " [[ 3 15]\n",
            "  [ 7 19]\n",
            "  [11 23]]\n",
            "\n",
            " [[ 4 16]\n",
            "  [ 8 20]\n",
            "  [12 24]]]\n"
          ]
        }
      ]
    },
    {
      "cell_type": "markdown",
      "source": [
        "**3. Pseudo-random Number Generation:**\n",
        "\n",
        "NumPy provides various functions for generating pseudo-random numbers. These functions are located in the `numpy.random` module. You can generate random numbers from different distributions, such as uniform, normal, binomial, etc."
      ],
      "metadata": {
        "id": "AS8s2fI1O-5N"
      }
    },
    {
      "cell_type": "code",
      "source": [
        "# Pseudo-random Number Generation in 1D Array:\n",
        "\n",
        "# Generate 5 random integers between 1 and 10\n",
        "random_integers = np.random.randint(1, 10, size=5)\n",
        "print(\"Random integers (1D):\", random_integers)\n",
        "\n",
        "# Generate 5 random numbers from a normal distribution\n",
        "random_normal = np.random.normal(size=5)\n",
        "print(\"Random numbers from normal distribution (1D):\", random_normal)"
      ],
      "metadata": {
        "id": "5CIlvGDhPDHy",
        "colab": {
          "base_uri": "https://localhost:8080/"
        },
        "outputId": "67693064-a1e5-4a9d-a33c-6b65528299d9"
      },
      "execution_count": null,
      "outputs": [
        {
          "output_type": "stream",
          "name": "stdout",
          "text": [
            "Random integers (1D): [9 6 1 8 4]\n",
            "Random numbers from normal distribution (1D): [ 1.06863026  0.48286822  0.55086636 -0.02394996  0.72991067]\n"
          ]
        }
      ]
    },
    {
      "cell_type": "code",
      "source": [
        "# Pseudo-random Number Generation in 2D Array:\n",
        "\n",
        "# Generate a 2D array of shape (3, 3) with random integers between 1 and 10\n",
        "random_integers_2d = np.random.randint(1, 10, size=(3, 3))\n",
        "print(\"Random integers (2D):\")\n",
        "print(random_integers_2d)\n",
        "\n",
        "# Generate a 2D array of shape (3, 3) with random numbers from a normal distribution\n",
        "random_normal_2d = np.random.normal(size=(3, 3))\n",
        "print(\"Random numbers from normal distribution (2D):\")\n",
        "print(random_normal_2d)"
      ],
      "metadata": {
        "id": "JWnfqa8HPLiF",
        "colab": {
          "base_uri": "https://localhost:8080/"
        },
        "outputId": "4e925aa5-0d67-4d55-a767-c7f49689545f"
      },
      "execution_count": null,
      "outputs": [
        {
          "output_type": "stream",
          "name": "stdout",
          "text": [
            "Random integers (2D):\n",
            "[[1 5 2]\n",
            " [8 2 7]\n",
            " [1 3 9]]\n",
            "Random numbers from normal distribution (2D):\n",
            "[[-0.53010259 -1.25998378  0.04791921]\n",
            " [ 0.54604908  0.21002351 -0.75041193]\n",
            " [ 0.18459713 -1.27315366  0.81455921]]\n"
          ]
        }
      ]
    },
    {
      "cell_type": "markdown",
      "source": [
        "\n",
        "\n",
        "---\n",
        "\n"
      ],
      "metadata": {
        "id": "Dtzwa1qOPWAJ"
      }
    },
    {
      "cell_type": "markdown",
      "source": [
        "# Masking"
      ],
      "metadata": {
        "id": "KIe3gls9PX5g"
      }
    },
    {
      "cell_type": "markdown",
      "source": [
        "Masking in NumPy involves using boolean arrays (masks) to filter or select elements from arrays based on certain conditions. This is particularly useful for selecting elements that satisfy specific criteria."
      ],
      "metadata": {
        "id": "xRAvu2t2Ppwt"
      }
    },
    {
      "cell_type": "markdown",
      "source": [
        "**1. Masking in 1D Array:**"
      ],
      "metadata": {
        "id": "wwvLYWIrQQ9j"
      }
    },
    {
      "cell_type": "code",
      "source": [
        "# Create a 1D array\n",
        "arr_1d = np.array([1, 2, 3, 4, 5])\n",
        "\n",
        "# Create a boolean mask based on a condition (e.g., elements greater than 2)\n",
        "mask_1d = arr_1d > 2\n",
        "\n",
        "# Apply the mask to select elements from the array\n",
        "result_1d = arr_1d[mask_1d]\n",
        "\n",
        "print(\"Original 1D array:\", arr_1d)\n",
        "print(\"Boolean mask:\", mask_1d)\n",
        "print(\"Selected elements using mask:\", result_1d)"
      ],
      "metadata": {
        "id": "uDzFqUCyQT7a",
        "colab": {
          "base_uri": "https://localhost:8080/"
        },
        "outputId": "995113cb-f296-42bb-98e3-aff6bf4d1e50"
      },
      "execution_count": null,
      "outputs": [
        {
          "output_type": "stream",
          "name": "stdout",
          "text": [
            "Original 1D array: [1 2 3 4 5]\n",
            "Boolean mask: [False False  True  True  True]\n",
            "Selected elements using mask: [3 4 5]\n"
          ]
        }
      ]
    },
    {
      "cell_type": "markdown",
      "source": [
        "**2. Masking in 2D Array:**"
      ],
      "metadata": {
        "id": "DVtbJ7qaPgZe"
      }
    },
    {
      "cell_type": "code",
      "source": [
        "# Create a 2D array\n",
        "arr_2d = np.array([[1, 2, 3],\n",
        "                   [4, 5, 6],\n",
        "                   [7, 8, 9]])\n",
        "\n",
        "# Create a boolean mask based on a condition (e.g., elements greater than 5)\n",
        "mask_2d = arr_2d > 5\n",
        "\n",
        "# Apply the mask to select elements from the array\n",
        "result_2d = arr_2d[mask_2d]\n",
        "\n",
        "print(\"Original 2D array:\")\n",
        "print(arr_2d)\n",
        "\n",
        "print(\"Boolean mask:\")\n",
        "print(mask_2d)\n",
        "\n",
        "print(\"Selected elements using mask:\")\n",
        "print(result_2d)"
      ],
      "metadata": {
        "id": "Fs5XHfImQe7U",
        "colab": {
          "base_uri": "https://localhost:8080/"
        },
        "outputId": "a4263526-83ae-48e4-e8f6-a54953b0a10c"
      },
      "execution_count": null,
      "outputs": [
        {
          "output_type": "stream",
          "name": "stdout",
          "text": [
            "Original 2D array:\n",
            "[[1 2 3]\n",
            " [4 5 6]\n",
            " [7 8 9]]\n",
            "Boolean mask:\n",
            "[[False False False]\n",
            " [False False  True]\n",
            " [ True  True  True]]\n",
            "Selected elements using mask:\n",
            "[6 7 8 9]\n"
          ]
        }
      ]
    },
    {
      "cell_type": "markdown",
      "source": [
        "\n",
        "\n",
        "---\n",
        "\n"
      ],
      "metadata": {
        "id": "i0Wu9i3-VXOF"
      }
    },
    {
      "cell_type": "markdown",
      "source": [
        "# Operations on 2D Arrays"
      ],
      "metadata": {
        "id": "FUVBf6_GVZdh"
      }
    },
    {
      "cell_type": "markdown",
      "source": [
        "**1. Matrix Multiplication (`np.matmul()`):**\n",
        "\n",
        "Matrix multiplication is a fundamental operation in linear algebra, where you multiply two matrices to obtain a new matrix. In NumPy, you can perform matrix multiplication using the `np.matmul()` function."
      ],
      "metadata": {
        "id": "F59rU3aGVcva"
      }
    },
    {
      "cell_type": "code",
      "source": [
        "# Define matrices\n",
        "matrix_a = np.array([[1, 2], [3, 4]])\n",
        "matrix_b = np.array([[5, 6], [7, 8]])\n",
        "\n",
        "# Matrix multiplication using np.matmul()\n",
        "result = np.matmul(matrix_a, matrix_b)\n",
        "print(\"Matrix Multiplication:\")\n",
        "print(result)"
      ],
      "metadata": {
        "id": "dUBK9itBVlna",
        "colab": {
          "base_uri": "https://localhost:8080/"
        },
        "outputId": "cf43670b-640e-4c69-f566-aadb1d3a6e60"
      },
      "execution_count": null,
      "outputs": [
        {
          "output_type": "stream",
          "name": "stdout",
          "text": [
            "Matrix Multiplication:\n",
            "[[19 22]\n",
            " [43 50]]\n"
          ]
        }
      ]
    },
    {
      "cell_type": "markdown",
      "source": [
        "**2. Reshaping (`np.reshape()`):**\n",
        "\n",
        "Reshaping an array means changing the shape of the array without changing its data. It's useful for converting arrays between different dimensions or rearranging their layout."
      ],
      "metadata": {
        "id": "CfXa-ELNVpYx"
      }
    },
    {
      "cell_type": "code",
      "source": [
        "# Reshaping an array\n",
        "arr = np.arange(1, 10)  # 1D array from 1 to 9\n",
        "print(arr)\n",
        "reshaped_arr = arr.reshape((3, 3))  # Reshape to a 3x3 matrix\n",
        "print(\"Reshaped array:\")\n",
        "print(reshaped_arr)"
      ],
      "metadata": {
        "id": "uk0c-sNCVtTo",
        "colab": {
          "base_uri": "https://localhost:8080/"
        },
        "outputId": "880717da-7818-4d58-9273-c44da19e5f66"
      },
      "execution_count": null,
      "outputs": [
        {
          "output_type": "stream",
          "name": "stdout",
          "text": [
            "[1 2 3 4 5 6 7 8 9]\n",
            "Reshaped array:\n",
            "[[1 2 3]\n",
            " [4 5 6]\n",
            " [7 8 9]]\n"
          ]
        }
      ]
    },
    {
      "cell_type": "markdown",
      "source": [
        "**3. Transpose (`np.transpose()`):**\n",
        "\n",
        "Transposing a matrix means flipping its rows with its columns. In NumPy, you can obtain the transpose of a matrix using the `np.transpose()` function or the `.T` attribute."
      ],
      "metadata": {
        "id": "vFe4u_uLVvq4"
      }
    },
    {
      "cell_type": "code",
      "source": [
        "# Transposing a matrix\n",
        "matrix = np.array([[1, 2, 3],\n",
        "                   [4, 5, 6]])\n",
        "transposed_matrix = np.transpose(matrix)\n",
        "print(\"Transposed matrix:\")\n",
        "print(transposed_matrix)"
      ],
      "metadata": {
        "id": "dw8qIM2GVzIw",
        "colab": {
          "base_uri": "https://localhost:8080/"
        },
        "outputId": "c732b843-4588-4ef2-8443-7a81ac74b73c"
      },
      "execution_count": null,
      "outputs": [
        {
          "output_type": "stream",
          "name": "stdout",
          "text": [
            "Transposed matrix:\n",
            "[[1 4]\n",
            " [2 5]\n",
            " [3 6]]\n"
          ]
        }
      ]
    },
    {
      "cell_type": "markdown",
      "source": [
        "**4. Aggregate Functions:**\n",
        "\n",
        "Aggregate functions in NumPy are functions that operate on arrays and return a single value, summarizing the data in some way. Common aggregate functions include `np.sum()`, `np.max()`, `np.min()`, `np.mean()`, etc."
      ],
      "metadata": {
        "id": "310LKNM_V2d0"
      }
    },
    {
      "cell_type": "code",
      "source": [
        "# Aggregate functions\n",
        "matrix = np.array([[1, 2, 3],\n",
        "                   [4, 5, 6]])\n",
        "\n",
        "print(\"Sum of all elements:\", np.sum(matrix))  # Output: 21\n",
        "print(\"Maximum element:\", np.max(matrix))  # Output: 6\n",
        "print(\"Minimum element:\", np.min(matrix))  # Output: 1\n",
        "print(\"Mean of all elements:\", np.mean(matrix))  # Output: 3.5"
      ],
      "metadata": {
        "colab": {
          "base_uri": "https://localhost:8080/"
        },
        "id": "U0938OkNV6Vt",
        "outputId": "99e2cd76-3d9b-4ece-90af-460e46033ba5"
      },
      "execution_count": null,
      "outputs": [
        {
          "output_type": "stream",
          "name": "stdout",
          "text": [
            "Sum of all elements: 21\n",
            "Maximum element: 6\n",
            "Minimum element: 1\n",
            "Mean of all elements: 3.5\n"
          ]
        }
      ]
    },
    {
      "cell_type": "markdown",
      "source": [
        "\n",
        "\n",
        "---\n",
        "\n"
      ],
      "metadata": {
        "id": "9n1PwQJRV-e0"
      }
    },
    {
      "cell_type": "markdown",
      "source": [
        "# Universal Functions (ufuncs)"
      ],
      "metadata": {
        "id": "xy-jLEFIWu5x"
      }
    },
    {
      "cell_type": "markdown",
      "source": [
        "**1. Basic Arithmetic Operations:**"
      ],
      "metadata": {
        "id": "AB58BFfxW0-A"
      }
    },
    {
      "cell_type": "code",
      "source": [
        "# Create a sample array\n",
        "arr = np.array([1, 2, 3, 4, 5])\n",
        "\n",
        "# Element-wise addition\n",
        "result_add = np.add(arr, 2)  # Add 2 to each element\n",
        "print(\"Addition:\", result_add)\n",
        "\n",
        "# Element-wise multiplication\n",
        "result_mul = np.multiply(arr, 3)  # Multiply each element by 3\n",
        "print(\"Multiplication:\", result_mul)"
      ],
      "metadata": {
        "id": "7P7mURyLW-dW",
        "colab": {
          "base_uri": "https://localhost:8080/"
        },
        "outputId": "b68e28a9-1f2a-4e3a-b6f6-955a3c3c4c79"
      },
      "execution_count": null,
      "outputs": [
        {
          "output_type": "stream",
          "name": "stdout",
          "text": [
            "Addition: [3 4 5 6 7]\n",
            "Multiplication: [ 3  6  9 12 15]\n"
          ]
        }
      ]
    },
    {
      "cell_type": "markdown",
      "source": [
        "**2. Trigonometric Functions:**"
      ],
      "metadata": {
        "id": "ZOV9HW54XA9t"
      }
    },
    {
      "cell_type": "code",
      "source": [
        "# Trigonometric functions\n",
        "angles = np.array([0, np.pi/4, np.pi/2, 3*np.pi/4, np.pi])\n",
        "\n",
        "# Sine\n",
        "result_sin = np.sin(angles)\n",
        "print(\"Sine:\", result_sin)\n",
        "\n",
        "# Cosine\n",
        "result_cos = np.cos(angles)\n",
        "print(\"Cosine:\", result_cos)"
      ],
      "metadata": {
        "id": "2LvkCjC8XD2p",
        "colab": {
          "base_uri": "https://localhost:8080/"
        },
        "outputId": "9a9cc36b-370f-408f-f9db-d1ad334e0986"
      },
      "execution_count": null,
      "outputs": [
        {
          "output_type": "stream",
          "name": "stdout",
          "text": [
            "Sine: [0.00000000e+00 7.07106781e-01 1.00000000e+00 7.07106781e-01\n",
            " 1.22464680e-16]\n",
            "Cosine: [ 1.00000000e+00  7.07106781e-01  6.12323400e-17 -7.07106781e-01\n",
            " -1.00000000e+00]\n"
          ]
        }
      ]
    },
    {
      "cell_type": "markdown",
      "source": [
        "**3. Exponential and Logarithmic Functions:**"
      ],
      "metadata": {
        "id": "_cAaNiKzXKCu"
      }
    },
    {
      "cell_type": "code",
      "source": [
        "# Exponential and logarithmic functions\n",
        "arr = np.array([1, 2, 3, 4, 5])\n",
        "\n",
        "# Exponential\n",
        "result_exp = np.exp(arr)\n",
        "print(\"Exponential:\", result_exp)\n",
        "\n",
        "# Natural logarithm\n",
        "result_log = np.log(arr)\n",
        "print(\"Natural Logarithm:\", result_log)"
      ],
      "metadata": {
        "id": "nL3Q3J1xXOYE",
        "colab": {
          "base_uri": "https://localhost:8080/"
        },
        "outputId": "1067d132-5e09-4aaa-d6f0-9186a413388a"
      },
      "execution_count": null,
      "outputs": [
        {
          "output_type": "stream",
          "name": "stdout",
          "text": [
            "Exponential: [  2.71828183   7.3890561   20.08553692  54.59815003 148.4131591 ]\n",
            "Natural Logarithm: [0.         0.69314718 1.09861229 1.38629436 1.60943791]\n"
          ]
        }
      ]
    },
    {
      "cell_type": "markdown",
      "source": [
        "**4. Statistical Functions:**"
      ],
      "metadata": {
        "id": "wTNWNKOEXQ0U"
      }
    },
    {
      "cell_type": "code",
      "source": [
        "# Statistical functions\n",
        "arr = np.array([1, 2, 3, 4, 5])\n",
        "\n",
        "# Mean\n",
        "result_mean = np.mean(arr)\n",
        "print(\"Mean:\", result_mean)\n",
        "\n",
        "# Standard deviation\n",
        "result_std = np.std(arr)\n",
        "print(\"Standard Deviation:\", result_std)"
      ],
      "metadata": {
        "id": "mErYCkTJXUaj",
        "colab": {
          "base_uri": "https://localhost:8080/"
        },
        "outputId": "b059f65e-10d2-4242-9f96-721dd9476e5e"
      },
      "execution_count": null,
      "outputs": [
        {
          "output_type": "stream",
          "name": "stdout",
          "text": [
            "Mean: 3.0\n",
            "Standard Deviation: 1.4142135623730951\n"
          ]
        }
      ]
    },
    {
      "cell_type": "markdown",
      "source": [
        "**5. Comparison Functions:**"
      ],
      "metadata": {
        "id": "xr_-uMyIXaGl"
      }
    },
    {
      "cell_type": "code",
      "source": [
        "# Comparison functions\n",
        "arr1 = np.array([1, 2, 3, 4, 5])\n",
        "arr2 = np.array([2, 3, 3, 4, 4])\n",
        "\n",
        "# Greater than\n",
        "result_gt = np.greater(arr1, arr2)\n",
        "print(\"Greater Than:\", result_gt)\n",
        "\n",
        "# Less than or equal to\n",
        "result_lte = np.less_equal(arr1, arr2)\n",
        "print(\"Less Than or Equal To:\", result_lte)"
      ],
      "metadata": {
        "id": "sAdoq4_zXcW5",
        "colab": {
          "base_uri": "https://localhost:8080/"
        },
        "outputId": "950d9100-ecad-4080-c7c8-bf4ea85a1199"
      },
      "execution_count": null,
      "outputs": [
        {
          "output_type": "stream",
          "name": "stdout",
          "text": [
            "Greater Than: [False False False False  True]\n",
            "Less Than or Equal To: [ True  True  True  True False]\n"
          ]
        }
      ]
    },
    {
      "cell_type": "markdown",
      "source": [
        "**6. Broadcasting:**\n",
        "\n",
        "Ufuncs also support broadcasting, which means they can operate on arrays of different shapes. NumPy automatically broadcasts arrays to perform element-wise operations."
      ],
      "metadata": {
        "id": "Ul6DYBstXf5K"
      }
    },
    {
      "cell_type": "code",
      "source": [
        "arr = np.array([[1, 2, 3], [4, 5, 6]])\n",
        "\n",
        "# Element-wise addition with scalar\n",
        "result_broadcast = arr + 2\n",
        "print(\"Broadcasting with Scalar:\")\n",
        "print(result_broadcast)"
      ],
      "metadata": {
        "id": "hxXN5pihXjM7",
        "colab": {
          "base_uri": "https://localhost:8080/"
        },
        "outputId": "72b41535-e2e7-4a6e-b4a0-42cce5340dc2"
      },
      "execution_count": null,
      "outputs": [
        {
          "output_type": "stream",
          "name": "stdout",
          "text": [
            "Broadcasting with Scalar:\n",
            "[[3 4 5]\n",
            " [6 7 8]]\n"
          ]
        }
      ]
    },
    {
      "cell_type": "markdown",
      "source": [
        "\n",
        "\n",
        "---\n",
        "\n"
      ],
      "metadata": {
        "id": "ruFrRc7VXutG"
      }
    },
    {
      "cell_type": "markdown",
      "source": [
        "# Array Manipulations"
      ],
      "metadata": {
        "id": "_qPKol6qEvMP"
      }
    },
    {
      "cell_type": "markdown",
      "source": [
        "# Playing with Shapes"
      ],
      "metadata": {
        "id": "eS03DkBOEx-F"
      }
    },
    {
      "cell_type": "markdown",
      "source": [
        "**1. reshape:** The reshape method returns a new array with the specified shape, without changing the data."
      ],
      "metadata": {
        "id": "JNO4JbJ0E39J"
      }
    },
    {
      "cell_type": "code",
      "source": [
        "# Create a one-dimensional array of 12 elements\n",
        "a = np.arange(12)\n",
        "print(\"Original array:\", a)\n",
        "\n",
        "# Reshape it to a 3x4 two-dimensional array\n",
        "b = a.reshape(3,4)\n",
        "print(\"Reshaped array:\\n\", b)"
      ],
      "metadata": {
        "colab": {
          "base_uri": "https://localhost:8080/"
        },
        "id": "Dz6wdfeeFPau",
        "outputId": "33a4c9b5-81b0-4e11-c9fe-98d0de18ddda"
      },
      "execution_count": null,
      "outputs": [
        {
          "output_type": "stream",
          "name": "stdout",
          "text": [
            "Original array: [ 0  1  2  3  4  5  6  7  8  9 10 11]\n",
            "Reshaped array:\n",
            " [[ 0  1  2  3]\n",
            " [ 4  5  6  7]\n",
            " [ 8  9 10 11]]\n"
          ]
        }
      ]
    },
    {
      "cell_type": "markdown",
      "source": [
        "**2. resize:** The resize method changes the shape and size of an array in-place. This method can alter the original array and fill in with repeated copies of a if the new array is larger than the original."
      ],
      "metadata": {
        "id": "uiJHWu53FSzB"
      }
    },
    {
      "cell_type": "code",
      "source": [
        "# Resize the array in-place to 2x6\n",
        "a = np.arange(10)\n",
        "a.resize(2, 6)\n",
        "print(\"Resized array:\\n\", a)"
      ],
      "metadata": {
        "colab": {
          "base_uri": "https://localhost:8080/"
        },
        "id": "_8O1ot7BFX3Z",
        "outputId": "3ea3ee5a-e8df-4e05-e05a-494f4b555953"
      },
      "execution_count": null,
      "outputs": [
        {
          "output_type": "stream",
          "name": "stdout",
          "text": [
            "Resized array:\n",
            " [[0 1 2 3 4 5]\n",
            " [6 7 8 9 0 0]]\n"
          ]
        }
      ]
    },
    {
      "cell_type": "markdown",
      "source": [
        "**3. ravel:** The ravel method returns a flattened one-dimensional array. It's a convenient way to convert any multi-dimensional array into a flat 1D array."
      ],
      "metadata": {
        "id": "pKNkr3mzFbNK"
      }
    },
    {
      "cell_type": "code",
      "source": [
        "# Flatten the 3x4 array to a one-dimensional array\n",
        "print(b)\n",
        "flat = b.ravel()\n",
        "print(\"Flattened array:\", flat)"
      ],
      "metadata": {
        "colab": {
          "base_uri": "https://localhost:8080/"
        },
        "id": "IzguHuEeFf91",
        "outputId": "f7f1b87d-329d-43b7-b9c5-279a52ffcb6c"
      },
      "execution_count": null,
      "outputs": [
        {
          "output_type": "stream",
          "name": "stdout",
          "text": [
            "[[ 0  1  2  3]\n",
            " [ 4  5  6  7]\n",
            " [ 8  9 10 11]]\n",
            "Flattened array: [ 0  1  2  3  4  5  6  7  8  9 10 11]\n"
          ]
        }
      ]
    },
    {
      "cell_type": "markdown",
      "source": [
        "**4. flatten:** Similar to ravel, but flatten returns a copy instead of a view of the original data, thus not affecting the original array."
      ],
      "metadata": {
        "id": "_Tjb122kF1iT"
      }
    },
    {
      "cell_type": "code",
      "source": [
        "# Create a copy of flattened array\n",
        "print(b)\n",
        "flat_copy = b.flatten()\n",
        "print(\"Flattened array copy:\", flat_copy)"
      ],
      "metadata": {
        "colab": {
          "base_uri": "https://localhost:8080/"
        },
        "id": "4tKT_iL7F59I",
        "outputId": "c27580a1-f360-490e-b6fe-6d1e3e2edffc"
      },
      "execution_count": null,
      "outputs": [
        {
          "output_type": "stream",
          "name": "stdout",
          "text": [
            "[[ 0  1  2  3]\n",
            " [ 4  5  6  7]\n",
            " [ 8  9 10 11]]\n",
            "Flattened array copy: [ 0  1  2  3  4  5  6  7  8  9 10 11]\n"
          ]
        }
      ]
    },
    {
      "cell_type": "markdown",
      "source": [
        "**Difference between ravel and flatten:**"
      ],
      "metadata": {
        "id": "DivIYFrpG_Q2"
      }
    },
    {
      "cell_type": "code",
      "source": [
        "# Creating a 2D array\n",
        "a = np.array([[1, 2], [3, 4]])\n",
        "\n",
        "# Flattening using ravel\n",
        "b = a.ravel()\n",
        "b[0] = 100  # Modifying the raveled array\n",
        "\n",
        "# Flattening using flatten\n",
        "c = a.flatten()\n",
        "c[1] = 200  # Modifying the flattened array\n",
        "\n",
        "print(\"Original array after modifying raveled array:\", a)\n",
        "print(\"Original array after modifying flattened array does not change:\", a)\n"
      ],
      "metadata": {
        "colab": {
          "base_uri": "https://localhost:8080/"
        },
        "id": "2EOQxWupHCh1",
        "outputId": "c9652f8f-e113-46bd-9231-0adb7b92dc58"
      },
      "execution_count": null,
      "outputs": [
        {
          "output_type": "stream",
          "name": "stdout",
          "text": [
            "Original array after modifying raveled array: [[100   2]\n",
            " [  3   4]]\n",
            "Original array after modifying flattened array does not change: [[100   2]\n",
            " [  3   4]]\n"
          ]
        }
      ]
    },
    {
      "cell_type": "markdown",
      "source": [
        "**5. squeeze:** The squeeze method is used to remove axes of length one from an array."
      ],
      "metadata": {
        "id": "oH_8OC_oHRji"
      }
    },
    {
      "cell_type": "code",
      "source": [
        "# Create an array with a singleton dimension\n",
        "c = np.array([[[1, 2, 3, 4]]])\n",
        "print(\"Original array with singleton dimension:\", c.shape)\n",
        "\n",
        "# Squeeze to remove singleton dimensions\n",
        "squeezed = c.squeeze()\n",
        "print(squeezed)\n",
        "print(\"Squeezed array:\", squeezed.shape)"
      ],
      "metadata": {
        "colab": {
          "base_uri": "https://localhost:8080/"
        },
        "id": "WSC0Ve13HXxu",
        "outputId": "c335ac10-a8df-4a4d-9bf3-927b74c42a21"
      },
      "execution_count": null,
      "outputs": [
        {
          "output_type": "stream",
          "name": "stdout",
          "text": [
            "Original array with singleton dimension: (1, 1, 4)\n",
            "[1 2 3 4]\n",
            "Squeezed array: (4,)\n"
          ]
        }
      ]
    },
    {
      "cell_type": "markdown",
      "source": [
        "**6. expand_dims:** The opposite of squeeze, expand_dims is used to add an axis at a specified position."
      ],
      "metadata": {
        "id": "wdzQCGZjHk8d"
      }
    },
    {
      "cell_type": "code",
      "source": [
        "# Add an axis at index 1\n",
        "expanded = np.expand_dims(squeezed, axis=1)\n",
        "print(expanded)\n",
        "print(\"Expanded array shape:\", expanded.shape)"
      ],
      "metadata": {
        "colab": {
          "base_uri": "https://localhost:8080/"
        },
        "id": "9fL9gjPvHpxC",
        "outputId": "3b3c3284-8a3f-4064-e82f-f5501cae3342"
      },
      "execution_count": null,
      "outputs": [
        {
          "output_type": "stream",
          "name": "stdout",
          "text": [
            "[[1]\n",
            " [2]\n",
            " [3]\n",
            " [4]]\n",
            "Expanded array shape: (4, 1)\n"
          ]
        }
      ]
    },
    {
      "cell_type": "markdown",
      "source": [
        "# Splitting and Joining\n",
        "Splitting allows you to divide large arrays into smaller arrays. This can be useful for parallel processing tasks or during situations where subsets of data need to be analyzed separately."
      ],
      "metadata": {
        "id": "WIiYt51IL2bF"
      }
    },
    {
      "cell_type": "markdown",
      "source": [
        "**1. np.split:** Splits an array into multiple sub-arrays."
      ],
      "metadata": {
        "id": "M5vW1PiLMCc3"
      }
    },
    {
      "cell_type": "code",
      "source": [
        "x = np.arange(9)\n",
        "print(\"Original array:\", x)\n",
        "\n",
        "# Split the array into 3 equal parts\n",
        "x_split = np.split(x, 3)\n",
        "print(\"Split array:\", x_split)"
      ],
      "metadata": {
        "colab": {
          "base_uri": "https://localhost:8080/"
        },
        "id": "cJC0PzxCMMiu",
        "outputId": "23861993-216f-4ebf-e79e-981f6843f26e"
      },
      "execution_count": null,
      "outputs": [
        {
          "output_type": "stream",
          "name": "stdout",
          "text": [
            "Original array: [0 1 2 3 4 5 6 7 8]\n",
            "Split array: [array([0, 1, 2]), array([3, 4, 5]), array([6, 7, 8])]\n"
          ]
        }
      ]
    },
    {
      "cell_type": "markdown",
      "source": [
        "**2. np.array_split:** Similar to np.split, but allows for splitting into unequal subarrays."
      ],
      "metadata": {
        "id": "htkyQHTjMO1T"
      }
    },
    {
      "cell_type": "code",
      "source": [
        "# Split the array into 4 parts, which will not be equal\n",
        "x_array_split = np.array_split(x, 4)\n",
        "print(\"Array split into unequal parts:\", x_array_split)"
      ],
      "metadata": {
        "colab": {
          "base_uri": "https://localhost:8080/"
        },
        "id": "BWq73jNlMWyc",
        "outputId": "3a4e41eb-468c-4100-cdce-d542edeba743"
      },
      "execution_count": null,
      "outputs": [
        {
          "output_type": "stream",
          "name": "stdout",
          "text": [
            "Array split into unequal parts: [array([0, 1, 2]), array([3, 4]), array([5, 6]), array([7, 8])]\n"
          ]
        }
      ]
    },
    {
      "cell_type": "markdown",
      "source": [
        "**3. np.hsplit and np.vsplit:** These are specific cases of split for horizontal and vertical splitting respectively, useful for 2D arrays (matrices)."
      ],
      "metadata": {
        "id": "mnHbNY8fMaL4"
      }
    },
    {
      "cell_type": "code",
      "source": [
        "y = np.array([[1, 2, 3], [4, 5, 6]])\n",
        "print(\"Original 2D array:\\n\", y)\n",
        "\n",
        "# Horizontal split\n",
        "y_hsplit = np.hsplit(y, 3)\n",
        "print(\"Horizontally split:\", y_hsplit)\n",
        "\n",
        "# Vertical split\n",
        "y_vsplit = np.vsplit(y, 2)\n",
        "print(\"Vertically split:\", y_vsplit)"
      ],
      "metadata": {
        "colab": {
          "base_uri": "https://localhost:8080/"
        },
        "id": "ThFyjev8MhN5",
        "outputId": "4a774e49-0dab-4ce3-98ba-3681b0fee397"
      },
      "execution_count": null,
      "outputs": [
        {
          "output_type": "stream",
          "name": "stdout",
          "text": [
            "Original 2D array:\n",
            " [[1 2 3]\n",
            " [4 5 6]]\n",
            "Horizontally split: [array([[1],\n",
            "       [4]]), array([[2],\n",
            "       [5]]), array([[3],\n",
            "       [6]])]\n",
            "Vertically split: [array([[1, 2, 3]]), array([[4, 5, 6]])]\n"
          ]
        }
      ]
    },
    {
      "cell_type": "markdown",
      "source": [
        "**4. np.concatenate:** Concatenates a sequence of arrays along an existing axis."
      ],
      "metadata": {
        "id": "vXO5lTXiMgiZ"
      }
    },
    {
      "cell_type": "code",
      "source": [
        "a = np.array([1, 2, 3])\n",
        "b = np.array([4, 5, 6])\n",
        "\n",
        "# Concatenate along the first axis\n",
        "concatenated = np.concatenate((a, b))\n",
        "print(\"Concatenated array:\", concatenated)"
      ],
      "metadata": {
        "colab": {
          "base_uri": "https://localhost:8080/"
        },
        "id": "LplQx7IUMomR",
        "outputId": "bc168cc2-be22-4f89-b562-c032bea9a78b"
      },
      "execution_count": null,
      "outputs": [
        {
          "output_type": "stream",
          "name": "stdout",
          "text": [
            "Concatenated array: [1 2 3 4 5 6]\n"
          ]
        }
      ]
    },
    {
      "cell_type": "markdown",
      "source": [
        "**5. np.hstack and np.vstack:** These are specific cases of concatenate for horizontal and vertical stacking respectively."
      ],
      "metadata": {
        "id": "JQFsn6cLMrG8"
      }
    },
    {
      "cell_type": "code",
      "source": [
        "# Horizontal stack\n",
        "h_stacked = np.hstack((a, b))\n",
        "print(\"Horizontally stacked:\", h_stacked)\n",
        "\n",
        "# Vertical stack\n",
        "v_stacked = np.vstack((a, b))\n",
        "print(\"Vertically stacked:\\n\", v_stacked)"
      ],
      "metadata": {
        "colab": {
          "base_uri": "https://localhost:8080/"
        },
        "id": "UkgXuVvvMwp6",
        "outputId": "0642f811-8175-45ac-b2e4-60acd08482a5"
      },
      "execution_count": null,
      "outputs": [
        {
          "output_type": "stream",
          "name": "stdout",
          "text": [
            "Horizontally stacked: [1 2 3 4 5 6]\n",
            "Vertically stacked:\n",
            " [[1 2 3]\n",
            " [4 5 6]]\n"
          ]
        }
      ]
    },
    {
      "cell_type": "markdown",
      "source": [
        "# Adding and Removing Elements\n",
        "These operations allow you to modify array sizes dynamically."
      ],
      "metadata": {
        "id": "mfIfpuG2Mzav"
      }
    },
    {
      "cell_type": "markdown",
      "source": [
        "**1. np.append:** Adds elements to the end of an array."
      ],
      "metadata": {
        "id": "a1D-ILfNM4r9"
      }
    },
    {
      "cell_type": "code",
      "source": [
        "# Append elements to the array\n",
        "a = np.array([1, 2, 3])\n",
        "appended = np.append(a, [7, 8])\n",
        "print(\"Appended array:\", appended)"
      ],
      "metadata": {
        "colab": {
          "base_uri": "https://localhost:8080/"
        },
        "id": "Zmd3sZf1NBv4",
        "outputId": "bbff6315-8c07-4167-b924-44b1262e3ac8"
      },
      "execution_count": null,
      "outputs": [
        {
          "output_type": "stream",
          "name": "stdout",
          "text": [
            "Appended array: [1 2 3 7 8]\n"
          ]
        }
      ]
    },
    {
      "cell_type": "markdown",
      "source": [
        "**2. np.insert:** Inserts elements at a specific position in the array."
      ],
      "metadata": {
        "id": "bCmqNlfNNECg"
      }
    },
    {
      "cell_type": "code",
      "source": [
        "# Insert elements into the array\n",
        "inserted = np.insert(a, 1, [9, 10])\n",
        "print(\"Array with inserted elements:\", inserted)"
      ],
      "metadata": {
        "colab": {
          "base_uri": "https://localhost:8080/"
        },
        "id": "wzbbLvXeNJDp",
        "outputId": "a266057e-23d0-4f4b-e882-f950fced77e2"
      },
      "execution_count": null,
      "outputs": [
        {
          "output_type": "stream",
          "name": "stdout",
          "text": [
            "Array with inserted elements: [ 1  9 10  2  3]\n"
          ]
        }
      ]
    },
    {
      "cell_type": "markdown",
      "source": [
        "**3. np.delete:** Removes elements at a specific position from the array."
      ],
      "metadata": {
        "id": "ub2hcdfVNimp"
      }
    },
    {
      "cell_type": "code",
      "source": [
        "# Create a one-dimensional array\n",
        "a = np.array([1, 2, 3, 4, 5])\n",
        "\n",
        "# Delete the element at index 2\n",
        "result = np.delete(a, 2)\n",
        "print(\"Array after deleting element at index 2:\", result)"
      ],
      "metadata": {
        "colab": {
          "base_uri": "https://localhost:8080/"
        },
        "id": "n1EnaYNjNmEh",
        "outputId": "8840caa4-1c94-4862-f776-75f3ec1df223"
      },
      "execution_count": null,
      "outputs": [
        {
          "output_type": "stream",
          "name": "stdout",
          "text": [
            "Array after deleting element at index 2: [1 2 4 5]\n"
          ]
        }
      ]
    },
    {
      "cell_type": "code",
      "source": [
        "# Delete multiple elements\n",
        "result = np.delete(a, [0, 3])\n",
        "print(\"Array after deleting elements at indices 0 and 3:\", result)"
      ],
      "metadata": {
        "colab": {
          "base_uri": "https://localhost:8080/"
        },
        "id": "lIgtHM4DPyXs",
        "outputId": "182cf1ba-e2ad-47fc-a9f4-5492ff6a6b9a"
      },
      "execution_count": null,
      "outputs": [
        {
          "output_type": "stream",
          "name": "stdout",
          "text": [
            "Array after deleting elements at indices 0 and 3: [2 3 5]\n"
          ]
        }
      ]
    },
    {
      "cell_type": "code",
      "source": [
        "# Create a two-dimensional array\n",
        "b = np.array([[1, 2, 3], [4, 5, 6], [7, 8, 9]])\n",
        "\n",
        "# Delete the second row\n",
        "result = np.delete(b, 1, axis=0)\n",
        "print(\"Array after deleting second row:\\n\", result)\n",
        "\n",
        "# Delete the third column\n",
        "result = np.delete(b, 2, axis=1)\n",
        "print(\"Array after deleting third column:\\n\", result)"
      ],
      "metadata": {
        "colab": {
          "base_uri": "https://localhost:8080/"
        },
        "id": "oz4mglXXP2dZ",
        "outputId": "e16d76b8-a3cc-4699-ec3b-7ec81630c8e9"
      },
      "execution_count": null,
      "outputs": [
        {
          "output_type": "stream",
          "name": "stdout",
          "text": [
            "Array after deleting second row:\n",
            " [[1 2 3]\n",
            " [7 8 9]]\n",
            "Array after deleting third column:\n",
            " [[1 2]\n",
            " [4 5]\n",
            " [7 8]]\n"
          ]
        }
      ]
    }
  ]
}